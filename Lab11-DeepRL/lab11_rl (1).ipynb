{
  "cells": [
    {
      "cell_type": "markdown",
      "metadata": {
        "id": "nEDB2yZKfwSU"
      },
      "source": [
        "[![Open In Colab](https://colab.research.google.com/assets/colab-badge.svg)](https://github.com/porterjenkins/byu-cs474/blob/master/lab11_rl.ipynb)"
      ]
    },
    {
      "cell_type": "markdown",
      "metadata": {
        "id": "sl7hEuB3J4k3"
      },
      "source": [
        "# Deep Reinforcement Learning\n",
        "\n",
        "## Objective\n",
        "\n",
        "- Build DQN and PPO Deep RL algorithms\n",
        "- Learn the difference between Q Learning and Policy Gradient techniques\n",
        "\n",
        "## Deliverable\n",
        "\n",
        "For this lab you will submit an ipython notebook via learning suite. This lab gives you a lot of code, and you should only need to modify two of the cells of this notebook. Feel free to download and modify this notebook or create your own. The below code is given for your convinience. You can modify any of the given code if you wish.\n",
        "\n",
        "## Tips\n",
        "\n",
        "Deep reinforcement learning is difficult. We provide hyperparameters, visualizations, and code for gathering experience, but require you to code up algorithms for training your networks.\n",
        "\n",
        "- Your networks should be able to demonstrate learning on cartpole within a minute of wall time.\n",
        "\n",
        "- Understand what your the starter code is doing. This will help you with the *TODO* sections. The main code block is similar for the two algorithms with some small yet important differences.\n",
        "\n",
        "- We provide hyperparameters for you to start with. Feel free to experiment with different values, but these worked for us.\n",
        "\n",
        "- **Print dtypes and shapes** throughout your code to make sure your tensors look the way you expect.\n",
        "\n",
        "- The DQN algorithm is significantly more unstable than PPO. Even with a correct implementation it may fail to learn every 1/10 times.\n",
        "\n",
        "- Unfortunately visualizing your agent acting in the environment is non-trivial in Colab. You can visualize your agent by running this code locally and uncommenting the `env.render()` line.\n",
        "\n",
        "## Grading\n",
        "\n",
        "- 40% Part 1: DQN *TODO* methods\n",
        "- 40% Part 2: PPO *TODO* methods\n",
        "- 20% Cartpole learning curves\n",
        "\n",
        "\n",
        "### Cartpole\n",
        "\n",
        "Cartpole is a simple environment to get your agent up and running. It has a continuous state space of 4 dimensions and a discrete action space of 2. The agent is given a reward of 1 for each timestep it remains standing. Your agent should be able to reach close to 200 cumulative reward for an episode after a minute or two of training. The below graphs show example results for dqn (left) and ppo (right).\n",
        "\n",
        "![alt text](https://github.com/wingated/cs474_labs/blob/master/images/dqn.png?raw=true)\n",
        "![alt text](https://github.com/wingated/cs474_labs/blob/master/images/ppo.png?raw=true)\n",
        "\n",
        "### TODO\n",
        "\n",
        "- Train DQN and PPO on cartpole\n",
        "- Display learning curves with average episodic reward per epoch"
      ]
    },
    {
      "cell_type": "markdown",
      "metadata": {
        "id": "gVWokqnVab6O"
      },
      "source": [
        "# Starter Code"
      ]
    },
    {
      "cell_type": "markdown",
      "metadata": {
        "id": "WhaPOG6xt0yn"
      },
      "source": [
        "## Init"
      ]
    },
    {
      "cell_type": "code",
      "execution_count": 1,
      "metadata": {
        "id": "EyykNyRM1Tf3",
        "colab": {
          "base_uri": "https://localhost:8080/"
        },
        "outputId": "3ce42b85-f4b9-4e79-ca56-adb474f0f698"
      },
      "outputs": [
        {
          "output_type": "stream",
          "name": "stdout",
          "text": [
            "Collecting gymnasium\n",
            "  Downloading gymnasium-1.0.0-py3-none-any.whl.metadata (9.5 kB)\n",
            "Requirement already satisfied: numpy>=1.21.0 in /usr/local/lib/python3.10/dist-packages (from gymnasium) (1.26.4)\n",
            "Requirement already satisfied: cloudpickle>=1.2.0 in /usr/local/lib/python3.10/dist-packages (from gymnasium) (3.1.0)\n",
            "Requirement already satisfied: typing-extensions>=4.3.0 in /usr/local/lib/python3.10/dist-packages (from gymnasium) (4.12.2)\n",
            "Collecting farama-notifications>=0.0.1 (from gymnasium)\n",
            "  Downloading Farama_Notifications-0.0.4-py3-none-any.whl.metadata (558 bytes)\n",
            "Downloading gymnasium-1.0.0-py3-none-any.whl (958 kB)\n",
            "\u001b[?25l   \u001b[90m━━━━━━━━━━━━━━━━━━━━━━━━━━━━━━━━━━━━━━━━\u001b[0m \u001b[32m0.0/958.1 kB\u001b[0m \u001b[31m?\u001b[0m eta \u001b[36m-:--:--\u001b[0m\r\u001b[2K   \u001b[91m━━━━━━━━━━━━━━━━━━━━\u001b[0m\u001b[91m╸\u001b[0m\u001b[90m━━━━━━━━━━━━━━━━━━━\u001b[0m \u001b[32m501.8/958.1 kB\u001b[0m \u001b[31m15.9 MB/s\u001b[0m eta \u001b[36m0:00:01\u001b[0m\r\u001b[2K   \u001b[90m━━━━━━━━━━━━━━━━━━━━━━━━━━━━━━━━━━━━━━━━\u001b[0m \u001b[32m958.1/958.1 kB\u001b[0m \u001b[31m15.7 MB/s\u001b[0m eta \u001b[36m0:00:00\u001b[0m\n",
            "\u001b[?25hDownloading Farama_Notifications-0.0.4-py3-none-any.whl (2.5 kB)\n",
            "Installing collected packages: farama-notifications, gymnasium\n",
            "Successfully installed farama-notifications-0.0.4 gymnasium-1.0.0\n",
            "Requirement already satisfied: torch in /usr/local/lib/python3.10/dist-packages (2.5.1+cu121)\n",
            "Requirement already satisfied: filelock in /usr/local/lib/python3.10/dist-packages (from torch) (3.16.1)\n",
            "Requirement already satisfied: typing-extensions>=4.8.0 in /usr/local/lib/python3.10/dist-packages (from torch) (4.12.2)\n",
            "Requirement already satisfied: networkx in /usr/local/lib/python3.10/dist-packages (from torch) (3.4.2)\n",
            "Requirement already satisfied: jinja2 in /usr/local/lib/python3.10/dist-packages (from torch) (3.1.4)\n",
            "Requirement already satisfied: fsspec in /usr/local/lib/python3.10/dist-packages (from torch) (2024.10.0)\n",
            "Requirement already satisfied: sympy==1.13.1 in /usr/local/lib/python3.10/dist-packages (from torch) (1.13.1)\n",
            "Requirement already satisfied: mpmath<1.4,>=1.1.0 in /usr/local/lib/python3.10/dist-packages (from sympy==1.13.1->torch) (1.3.0)\n",
            "Requirement already satisfied: MarkupSafe>=2.0 in /usr/local/lib/python3.10/dist-packages (from jinja2->torch) (3.0.2)\n",
            "Requirement already satisfied: pygame in /usr/local/lib/python3.10/dist-packages (2.6.1)\n",
            "Requirement already satisfied: moviepy==1.0.3 in /usr/local/lib/python3.10/dist-packages (1.0.3)\n",
            "Requirement already satisfied: decorator<5.0,>=4.0.2 in /usr/local/lib/python3.10/dist-packages (from moviepy==1.0.3) (4.4.2)\n",
            "Requirement already satisfied: imageio<3.0,>=2.5 in /usr/local/lib/python3.10/dist-packages (from moviepy==1.0.3) (2.36.1)\n",
            "Requirement already satisfied: imageio_ffmpeg>=0.2.0 in /usr/local/lib/python3.10/dist-packages (from moviepy==1.0.3) (0.5.1)\n",
            "Requirement already satisfied: tqdm<5.0,>=4.11.2 in /usr/local/lib/python3.10/dist-packages (from moviepy==1.0.3) (4.66.6)\n",
            "Requirement already satisfied: numpy>=1.17.3 in /usr/local/lib/python3.10/dist-packages (from moviepy==1.0.3) (1.26.4)\n",
            "Requirement already satisfied: requests<3.0,>=2.8.1 in /usr/local/lib/python3.10/dist-packages (from moviepy==1.0.3) (2.32.3)\n",
            "Requirement already satisfied: proglog<=1.0.0 in /usr/local/lib/python3.10/dist-packages (from moviepy==1.0.3) (0.1.10)\n",
            "Requirement already satisfied: pillow>=8.3.2 in /usr/local/lib/python3.10/dist-packages (from imageio<3.0,>=2.5->moviepy==1.0.3) (11.0.0)\n",
            "Requirement already satisfied: setuptools in /usr/local/lib/python3.10/dist-packages (from imageio_ffmpeg>=0.2.0->moviepy==1.0.3) (75.1.0)\n",
            "Requirement already satisfied: charset-normalizer<4,>=2 in /usr/local/lib/python3.10/dist-packages (from requests<3.0,>=2.8.1->moviepy==1.0.3) (3.4.0)\n",
            "Requirement already satisfied: idna<4,>=2.5 in /usr/local/lib/python3.10/dist-packages (from requests<3.0,>=2.8.1->moviepy==1.0.3) (3.10)\n",
            "Requirement already satisfied: urllib3<3,>=1.21.1 in /usr/local/lib/python3.10/dist-packages (from requests<3.0,>=2.8.1->moviepy==1.0.3) (2.2.3)\n",
            "Requirement already satisfied: certifi>=2017.4.17 in /usr/local/lib/python3.10/dist-packages (from requests<3.0,>=2.8.1->moviepy==1.0.3) (2024.8.30)\n",
            "Requirement already satisfied: imageio_ffmpeg in /usr/local/lib/python3.10/dist-packages (0.5.1)\n",
            "Requirement already satisfied: setuptools in /usr/local/lib/python3.10/dist-packages (from imageio_ffmpeg) (75.1.0)\n",
            "Collecting pyvirtualdisplay\n",
            "  Downloading PyVirtualDisplay-3.0-py3-none-any.whl.metadata (943 bytes)\n",
            "Downloading PyVirtualDisplay-3.0-py3-none-any.whl (15 kB)\n",
            "Installing collected packages: pyvirtualdisplay\n",
            "Successfully installed pyvirtualdisplay-3.0\n",
            "Reading package lists... Done\n",
            "Building dependency tree... Done\n",
            "Reading state information... Done\n",
            "ffmpeg is already the newest version (7:4.4.2-0ubuntu0.22.04.1).\n",
            "The following additional packages will be installed:\n",
            "  freeglut3 libfontenc1 libglu1-mesa libxfont2 libxkbfile1 x11-xkb-utils xfonts-base\n",
            "  xfonts-encodings xfonts-utils xserver-common\n",
            "Suggested packages:\n",
            "  libgle3 python3-numpy\n",
            "The following NEW packages will be installed:\n",
            "  freeglut3 libfontenc1 libglu1-mesa libxfont2 libxkbfile1 python3-opengl x11-xkb-utils xfonts-base\n",
            "  xfonts-encodings xfonts-utils xserver-common xvfb\n",
            "0 upgraded, 12 newly installed, 0 to remove and 49 not upgraded.\n",
            "Need to get 8,639 kB of archives.\n",
            "After this operation, 20.0 MB of additional disk space will be used.\n",
            "Get:1 http://archive.ubuntu.com/ubuntu jammy/universe amd64 freeglut3 amd64 2.8.1-6 [74.0 kB]\n",
            "Get:2 http://archive.ubuntu.com/ubuntu jammy/main amd64 libfontenc1 amd64 1:1.1.4-1build3 [14.7 kB]\n",
            "Get:3 http://archive.ubuntu.com/ubuntu jammy/main amd64 libxfont2 amd64 1:2.0.5-1build1 [94.5 kB]\n",
            "Get:4 http://archive.ubuntu.com/ubuntu jammy/main amd64 libxkbfile1 amd64 1:1.1.0-1build3 [71.8 kB]\n",
            "Get:5 http://archive.ubuntu.com/ubuntu jammy/main amd64 libglu1-mesa amd64 9.0.2-1 [145 kB]\n",
            "Get:6 http://archive.ubuntu.com/ubuntu jammy/universe amd64 python3-opengl all 3.1.5+dfsg-1 [605 kB]\n",
            "Get:7 http://archive.ubuntu.com/ubuntu jammy/main amd64 x11-xkb-utils amd64 7.7+5build4 [172 kB]\n",
            "Get:8 http://archive.ubuntu.com/ubuntu jammy/main amd64 xfonts-encodings all 1:1.0.5-0ubuntu2 [578 kB]\n",
            "Get:9 http://archive.ubuntu.com/ubuntu jammy/main amd64 xfonts-utils amd64 1:7.7+6build2 [94.6 kB]\n",
            "Get:10 http://archive.ubuntu.com/ubuntu jammy/main amd64 xfonts-base all 1:1.0.5 [5,896 kB]\n",
            "Get:11 http://archive.ubuntu.com/ubuntu jammy-updates/main amd64 xserver-common all 2:21.1.4-2ubuntu1.7~22.04.12 [28.7 kB]\n",
            "Get:12 http://archive.ubuntu.com/ubuntu jammy-updates/universe amd64 xvfb amd64 2:21.1.4-2ubuntu1.7~22.04.12 [864 kB]\n",
            "Fetched 8,639 kB in 2s (4,658 kB/s)\n",
            "Selecting previously unselected package freeglut3:amd64.\n",
            "(Reading database ... 123632 files and directories currently installed.)\n",
            "Preparing to unpack .../00-freeglut3_2.8.1-6_amd64.deb ...\n",
            "Unpacking freeglut3:amd64 (2.8.1-6) ...\n",
            "Selecting previously unselected package libfontenc1:amd64.\n",
            "Preparing to unpack .../01-libfontenc1_1%3a1.1.4-1build3_amd64.deb ...\n",
            "Unpacking libfontenc1:amd64 (1:1.1.4-1build3) ...\n",
            "Selecting previously unselected package libxfont2:amd64.\n",
            "Preparing to unpack .../02-libxfont2_1%3a2.0.5-1build1_amd64.deb ...\n",
            "Unpacking libxfont2:amd64 (1:2.0.5-1build1) ...\n",
            "Selecting previously unselected package libxkbfile1:amd64.\n",
            "Preparing to unpack .../03-libxkbfile1_1%3a1.1.0-1build3_amd64.deb ...\n",
            "Unpacking libxkbfile1:amd64 (1:1.1.0-1build3) ...\n",
            "Selecting previously unselected package libglu1-mesa:amd64.\n",
            "Preparing to unpack .../04-libglu1-mesa_9.0.2-1_amd64.deb ...\n",
            "Unpacking libglu1-mesa:amd64 (9.0.2-1) ...\n",
            "Selecting previously unselected package python3-opengl.\n",
            "Preparing to unpack .../05-python3-opengl_3.1.5+dfsg-1_all.deb ...\n",
            "Unpacking python3-opengl (3.1.5+dfsg-1) ...\n",
            "Selecting previously unselected package x11-xkb-utils.\n",
            "Preparing to unpack .../06-x11-xkb-utils_7.7+5build4_amd64.deb ...\n",
            "Unpacking x11-xkb-utils (7.7+5build4) ...\n",
            "Selecting previously unselected package xfonts-encodings.\n",
            "Preparing to unpack .../07-xfonts-encodings_1%3a1.0.5-0ubuntu2_all.deb ...\n",
            "Unpacking xfonts-encodings (1:1.0.5-0ubuntu2) ...\n",
            "Selecting previously unselected package xfonts-utils.\n",
            "Preparing to unpack .../08-xfonts-utils_1%3a7.7+6build2_amd64.deb ...\n",
            "Unpacking xfonts-utils (1:7.7+6build2) ...\n",
            "Selecting previously unselected package xfonts-base.\n",
            "Preparing to unpack .../09-xfonts-base_1%3a1.0.5_all.deb ...\n",
            "Unpacking xfonts-base (1:1.0.5) ...\n",
            "Selecting previously unselected package xserver-common.\n",
            "Preparing to unpack .../10-xserver-common_2%3a21.1.4-2ubuntu1.7~22.04.12_all.deb ...\n",
            "Unpacking xserver-common (2:21.1.4-2ubuntu1.7~22.04.12) ...\n",
            "Selecting previously unselected package xvfb.\n",
            "Preparing to unpack .../11-xvfb_2%3a21.1.4-2ubuntu1.7~22.04.12_amd64.deb ...\n",
            "Unpacking xvfb (2:21.1.4-2ubuntu1.7~22.04.12) ...\n",
            "Setting up freeglut3:amd64 (2.8.1-6) ...\n",
            "Setting up libfontenc1:amd64 (1:1.1.4-1build3) ...\n",
            "Setting up xfonts-encodings (1:1.0.5-0ubuntu2) ...\n",
            "Setting up libglu1-mesa:amd64 (9.0.2-1) ...\n",
            "Setting up libxkbfile1:amd64 (1:1.1.0-1build3) ...\n",
            "Setting up libxfont2:amd64 (1:2.0.5-1build1) ...\n",
            "Setting up x11-xkb-utils (7.7+5build4) ...\n",
            "Setting up python3-opengl (3.1.5+dfsg-1) ...\n",
            "Setting up xfonts-utils (1:7.7+6build2) ...\n",
            "Setting up xfonts-base (1:1.0.5) ...\n",
            "Setting up xserver-common (2:21.1.4-2ubuntu1.7~22.04.12) ...\n",
            "Setting up xvfb (2:21.1.4-2ubuntu1.7~22.04.12) ...\n",
            "Processing triggers for man-db (2.10.2-1) ...\n",
            "Processing triggers for fontconfig (2.13.1-4.2ubuntu5) ...\n",
            "Processing triggers for libc-bin (2.35-0ubuntu3.4) ...\n",
            "/sbin/ldconfig.real: /usr/local/lib/libumf.so.0 is not a symbolic link\n",
            "\n",
            "/sbin/ldconfig.real: /usr/local/lib/libtbbbind.so.3 is not a symbolic link\n",
            "\n",
            "/sbin/ldconfig.real: /usr/local/lib/libtcm.so.1 is not a symbolic link\n",
            "\n",
            "/sbin/ldconfig.real: /usr/local/lib/libur_loader.so.0 is not a symbolic link\n",
            "\n",
            "/sbin/ldconfig.real: /usr/local/lib/libtcm_debug.so.1 is not a symbolic link\n",
            "\n",
            "/sbin/ldconfig.real: /usr/local/lib/libtbbbind_2_5.so.3 is not a symbolic link\n",
            "\n",
            "/sbin/ldconfig.real: /usr/local/lib/libtbbbind_2_0.so.3 is not a symbolic link\n",
            "\n",
            "/sbin/ldconfig.real: /usr/local/lib/libur_adapter_level_zero.so.0 is not a symbolic link\n",
            "\n",
            "/sbin/ldconfig.real: /usr/local/lib/libtbbmalloc_proxy.so.2 is not a symbolic link\n",
            "\n",
            "/sbin/ldconfig.real: /usr/local/lib/libtbbmalloc.so.2 is not a symbolic link\n",
            "\n",
            "/sbin/ldconfig.real: /usr/local/lib/libtbb.so.12 is not a symbolic link\n",
            "\n",
            "/sbin/ldconfig.real: /usr/local/lib/libur_adapter_opencl.so.0 is not a symbolic link\n",
            "\n",
            "/sbin/ldconfig.real: /usr/local/lib/libhwloc.so.15 is not a symbolic link\n",
            "\n"
          ]
        }
      ],
      "source": [
        "! pip3 install gymnasium\n",
        "! pip3 install torch\n",
        "! pip install pygame\n",
        "! pip install moviepy==1.0.3\n",
        "! pip install imageio_ffmpeg\n",
        "! pip install pyvirtualdisplay\n",
        "! apt-get install -y xvfb python3-opengl ffmpeg"
      ]
    },
    {
      "cell_type": "code",
      "execution_count": 2,
      "metadata": {
        "id": "Rim8iocC1Vva"
      },
      "outputs": [],
      "source": [
        "import gymnasium as gym\n",
        "import torch\n",
        "import torch.nn as nn\n",
        "import torch.nn.functional as F\n",
        "from itertools import chain\n",
        "import matplotlib.pyplot as plt\n",
        "from tqdm import tqdm\n",
        "import random\n",
        "from torch.utils.data import Dataset, DataLoader\n",
        "import numpy as np\n",
        "\n",
        "from gymnasium import logger as gymlogger\n",
        "from gymnasium.wrappers import RecordVideo\n",
        "gymlogger.min_level = 40 # Error only\n",
        "\n",
        "import glob\n",
        "import io\n",
        "import base64\n",
        "from IPython.display import HTML\n",
        "from IPython import display as ipythondisplay"
      ]
    },
    {
      "cell_type": "code",
      "execution_count": 3,
      "metadata": {
        "id": "l1f8lZp19Lwj",
        "colab": {
          "base_uri": "https://localhost:8080/"
        },
        "outputId": "3068e4cb-ec28-4fcb-c3f1-d7eed8193815"
      },
      "outputs": [
        {
          "output_type": "execute_result",
          "data": {
            "text/plain": [
              "<pyvirtualdisplay.display.Display at 0x7e74f8156830>"
            ]
          },
          "metadata": {},
          "execution_count": 3
        }
      ],
      "source": [
        "from pyvirtualdisplay import Display\n",
        "display = Display(visible=0, size=(1400,900))\n",
        "display.start()"
      ]
    },
    {
      "cell_type": "code",
      "execution_count": 4,
      "metadata": {
        "id": "_TI_5c0l9Ojv"
      },
      "outputs": [],
      "source": [
        "def show_video():\n",
        "  mp4list = glob.glob('video/*.mp4')\n",
        "  if len(mp4list) > 0:\n",
        "    mp4 = mp4list[0]\n",
        "    video = io.open(mp4, 'r+b').read()\n",
        "    encoded = base64.b64encode(video)\n",
        "    ipythondisplay.display(HTML(data='''<video alt=\"test\" autoplay\n",
        "                loop controls style=\"height: 400px;\">\n",
        "                <source src=\"data:video/mp4;base64,{0}\" type=\"video/mp4\" />\n",
        "             </video>'''.format(encoded.decode('ascii'))))\n",
        "  else:\n",
        "    print(\"Could not find video\")\n",
        "\n",
        "def wrap_env(env):\n",
        "  env = RecordVideo(env, './video')\n",
        "  return env"
      ]
    },
    {
      "cell_type": "markdown",
      "metadata": {
        "id": "mV282uYJ2aSw"
      },
      "source": [
        "## DQN"
      ]
    },
    {
      "cell_type": "markdown",
      "metadata": {
        "id": "Qi_aDdTg2btp"
      },
      "source": [
        "## Part 1\n",
        "\n",
        "\n",
        "Deep Q-Network (https://www.cs.toronto.edu/~vmnih/docs/dqn.pdf) is a Q-learning algorithm that learns values for state-action pairs.\n",
        "\n",
        "Actions are sampled according to an $\\epsilon-greedy$ policy to help with exploration of the state space. Every time an action is sampled, the agent chooses a random action with $\\epsilon$ probability. Otherwise, the agent selects the action with the highest Q-value for a state. $\\epsilon$ decays over time according to $\\epsilon \\gets \\epsilon * epsilon\\_decay$.\n",
        "\n",
        "Tuples of state, action, reward, next_state, and terminal $(s,a,r,s',d)$ are collected during training. Every $learn\\_frequency$ steps $sample\\_size$ tuples are sampled and made into 5 tensors tensors of states, actions, rewarads, next_states, and terminals.\n",
        "\n",
        "The loss for a batch of size N is given below.\n",
        "\n",
        "$Loss=\\frac{1}{N}\\sum \\bigg(Q(s,a) - (r + \\gamma \\underset{a'\\sim A}{max} \\hat{Q}(s',a')(1-d))\\bigg)^2 $\n",
        "\n",
        "Loss is calculated and used to update the Q-Network. The target network $\\hat{Q}$ begins as a copy of the Q network but is not updated by the optimizer. Every $target\\_update$ steps, the target network is updated with the parameters of the Q-Network. This process is a type of bootstrapping.\n",
        "\n",
        "### TODO\n",
        "\n",
        "- Implement get action method with e-greedy policy\n",
        "- Implement sample batch method\n",
        "- Implement DQN learning algorithm\n",
        "\n"
      ]
    },
    {
      "cell_type": "code",
      "execution_count": 12,
      "metadata": {
        "id": "_mBUvXkT2dHy"
      },
      "outputs": [],
      "source": [
        "def get_action_dqn(network, state, epsilon, epsilon_decay):\n",
        "  \"\"\"Select action according to e-greedy policy and decay epsilon\n",
        "\n",
        "    Args:\n",
        "        network (QNetwork): Q-Network\n",
        "        state (np-array): current state, size (state_size)\n",
        "        epsilon (float): probability of choosing a random action\n",
        "        epsilon_decay (float): amount by which to decay epsilon\n",
        "\n",
        "    Returns:\n",
        "        action (int): chosen action [0, action_size)\n",
        "        epsilon (float): decayed epsilon\n",
        "  \"\"\"\n",
        "  if random.random() < epsilon:\n",
        "    action = random.randint(0,1)\n",
        "  else:\n",
        "    state_tensor = torch.from_numpy(state).float().unsqueeze(0).cuda()\n",
        "    q_values = network(state_tensor)\n",
        "    action = torch.argmax(q_values, dim=1).item()\n",
        "\n",
        "  epsilon *= epsilon_decay\n",
        "  return action, epsilon\n",
        "\n",
        "\n",
        "def prepare_batch(memory, batch_size):\n",
        "  \"\"\"Randomly sample batch from memory\n",
        "     Prepare cuda tensors\n",
        "\n",
        "    Args:\n",
        "        memory (list): state, action, next_state, reward, done tuples\n",
        "        batch_size (int): amount of memory to sample into a batch\n",
        "\n",
        "    Returns:\n",
        "        state (tensor): float cuda tensor of size (batch_size x state_size)\n",
        "        action (tensor): long tensor of size (batch_size)\n",
        "        next_state (tensor): float cuda tensor of size (batch_size x state_size)\n",
        "        reward (tensor): float cuda tensor of size (batch_size)\n",
        "        done (tensor): float cuda tensor of size (batch_size)\n",
        "  \"\"\"\n",
        "  batch = random.sample(memory, batch_size)\n",
        "  states, actions, next_states, rewards, dones = zip(*batch)\n",
        "\n",
        "  state = torch.tensor(states, dtype=torch.float32).cuda()\n",
        "  action = torch.tensor(actions, dtype=torch.long).cuda()\n",
        "  nex_state = torch.tensor(next_states, dtype=torch.float32).cuda()\n",
        "  reward = torch.tensor(rewards, dtype=torch.float32).cuda()\n",
        "  done = torch.tensor(dones, dtype=torch.float32).cuda()\n",
        "\n",
        "  return state, action, nex_state, reward, done\n",
        "\n",
        "\n",
        "\n",
        "def learn_dqn(batch, optim, q_network, target_network, gamma, global_step, target_update):\n",
        "  \"\"\"Update Q-Network according to DQN Loss function\n",
        "     Update Target Network every target_update global steps\n",
        "\n",
        "    Args:\n",
        "        batch (tuple): tuple of state, action, next_state, reward, and done tensors\n",
        "        optim (Adam): Q-Network optimizer\n",
        "        q_network (QNetwork): Q-Network\n",
        "        target_network (QNetwork): Target Q-Network\n",
        "        gamma (float): discount factor\n",
        "        global_step (int): total steps taken in environment\n",
        "        target_update (int): frequency of target network update\n",
        "  \"\"\"\n",
        "  state, action, next_state, reward, done = batch\n",
        "\n",
        "  # current Q-values\n",
        "  q_values = q_network(state)\n",
        "  q_value = q_values.gather(1, action.unsqueeze(1)).squeeze(1)\n",
        "\n",
        "  # next Q-values\n",
        "  with torch.no_grad():\n",
        "    next_q_values = target_network(next_state) # (b, a)\n",
        "    max_next_q_values = next_q_values.max(dim=1)[0] #(b)\n",
        "\n",
        "    target = reward + (1 - done) * gamma * max_next_q_values\n",
        "\n",
        "  loss = F.mse_loss(q_value, target)\n",
        "\n",
        "  # backprop\n",
        "  optim.zero_grad()\n",
        "  loss.backward()\n",
        "  optim.step()\n",
        "\n",
        "  # update target\n",
        "  if global_step % target_update == 0:\n",
        "    target_network.load_state_dict(q_network.state_dict())"
      ]
    },
    {
      "cell_type": "markdown",
      "metadata": {
        "id": "vGQgiY0WvImB"
      },
      "source": [
        "### Modules"
      ]
    },
    {
      "cell_type": "code",
      "execution_count": 13,
      "metadata": {
        "id": "1vMhl-oevIBo"
      },
      "outputs": [],
      "source": [
        "# Q-Value Network\n",
        "class QNetwork(nn.Module):\n",
        "  def __init__(self, state_size, action_size):\n",
        "    super().__init__()\n",
        "    hidden_size = 8\n",
        "\n",
        "    self.net = nn.Sequential(nn.Linear(state_size, hidden_size),\n",
        "                             nn.ReLU(),\n",
        "                             nn.Linear(hidden_size, hidden_size),\n",
        "                             nn.ReLU(),\n",
        "                             nn.Linear(hidden_size, hidden_size),\n",
        "                             nn.ReLU(),\n",
        "                             nn.Linear(hidden_size, action_size))\n",
        "\n",
        "  def forward(self, x):\n",
        "    \"\"\"Estimate q-values given state\n",
        "\n",
        "      Args:\n",
        "          state (tensor): current state, size (batch x state_size)\n",
        "\n",
        "      Returns:\n",
        "          q-values (tensor): estimated q-values, size (batch x action_size)\n",
        "    \"\"\"\n",
        "    return self.net(x)"
      ]
    },
    {
      "cell_type": "markdown",
      "metadata": {
        "id": "yCafVI552dgg"
      },
      "source": [
        "### Main"
      ]
    },
    {
      "cell_type": "code",
      "execution_count": 14,
      "metadata": {
        "id": "8Sy_r9Wr2eg8",
        "colab": {
          "base_uri": "https://localhost:8080/",
          "height": 421
        },
        "outputId": "778a37de-2244-45d5-f23e-c79e56c4897b"
      },
      "outputs": [
        {
          "output_type": "stream",
          "name": "stderr",
          "text": []
        },
        {
          "output_type": "display_data",
          "data": {
            "text/plain": [
              "<IPython.core.display.HTML object>"
            ],
            "text/html": [
              "<video alt=\"test\" autoplay\n",
              "                loop controls style=\"height: 400px;\">\n",
              "                <source src=\"data:video/mp4;base64,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\" type=\"video/mp4\" />\n",
              "             </video>"
            ]
          },
          "metadata": {}
        }
      ],
      "source": [
        "def dqn_main():\n",
        "  # Hyper parameters\n",
        "  lr = 1e-3\n",
        "  epochs = 500\n",
        "  start_training = 1000\n",
        "  gamma = 0.99\n",
        "  batch_size = 32\n",
        "  epsilon = 1\n",
        "  epsilon_decay = .9999\n",
        "  target_update = 1000\n",
        "  learn_frequency = 2\n",
        "\n",
        "  # Init environment\n",
        "  state_size = 4\n",
        "  action_size = 2\n",
        "  env = gym.make('CartPole-v1', render_mode=\"rgb_array\")\n",
        "\n",
        "  # Init networks\n",
        "  q_network = QNetwork(state_size, action_size).cuda()\n",
        "  target_network = QNetwork(state_size, action_size).cuda()\n",
        "  target_network.load_state_dict(q_network.state_dict())\n",
        "\n",
        "  # Init optimizer\n",
        "  optim = torch.optim.Adam(q_network.parameters(), lr=lr)\n",
        "\n",
        "  # Init replay buffer\n",
        "  memory = []\n",
        "\n",
        "  # Begin main loop\n",
        "  results_dqn = []\n",
        "  global_step = 0\n",
        "  loop = tqdm(total=epochs, position=0, leave=False)\n",
        "  for epoch in range(epochs):\n",
        "    last_epoch = (epoch+1 == epochs)\n",
        "    # Record the last epoch, not the previous epochs\n",
        "    if last_epoch:\n",
        "      env = wrap_env(env)\n",
        "\n",
        "    # Reset environment\n",
        "    state, _ = env.reset()\n",
        "    done = False\n",
        "    cum_reward = 0  # Track cumulative reward per episode\n",
        "\n",
        "    # Begin episode\n",
        "    while not done and cum_reward < 200:  # End after 200 steps\n",
        "      # Select e-greedy action\n",
        "      action, epsilon = get_action_dqn(q_network, state, epsilon, epsilon_decay)\n",
        "\n",
        "      # Take step\n",
        "      next_state, reward, terminated, truncated, _ = env.step(action)\n",
        "      done = terminated or truncated\n",
        "      # env.render()\n",
        "\n",
        "      # Store step in replay buffer\n",
        "      memory.append((state, action, next_state, reward, done))\n",
        "\n",
        "      cum_reward += reward\n",
        "      global_step += 1  # Increment total steps\n",
        "      state = next_state  # Set current state\n",
        "\n",
        "      # If time to train\n",
        "      if global_step > start_training and global_step % learn_frequency == 0:\n",
        "\n",
        "        # Sample batch\n",
        "        batch = prepare_batch(memory, batch_size)\n",
        "\n",
        "        # Train\n",
        "        learn_dqn(batch, optim, q_network, target_network, gamma, global_step, target_update)\n",
        "    env.close()\n",
        "    # Print results at end of episode\n",
        "    results_dqn.append(cum_reward)\n",
        "    loop.update(1)\n",
        "    loop.set_description('Episodes: {} Reward: {}'.format(epoch, cum_reward))\n",
        "\n",
        "  return results_dqn\n",
        "\n",
        "results_dqn = dqn_main()\n",
        "show_video()"
      ]
    },
    {
      "cell_type": "code",
      "execution_count": 15,
      "metadata": {
        "id": "ZWYwytCDC3aw",
        "colab": {
          "base_uri": "https://localhost:8080/",
          "height": 430
        },
        "outputId": "195a4722-1a68-4a2b-ee3a-63b194852fa9"
      },
      "outputs": [
        {
          "output_type": "display_data",
          "data": {
            "text/plain": [
              "<Figure size 640x480 with 1 Axes>"
            ],
            "image/png": "[encoded data removed]"
          },
          "metadata": {}
        }
      ],
      "source": [
        "plt.plot(results_dqn)\n",
        "plt.show()"
      ]
    },
    {
      "cell_type": "markdown",
      "metadata": {
        "id": "qN9yy5EWVNz0"
      },
      "source": [
        "## PPO"
      ]
    },
    {
      "cell_type": "markdown",
      "metadata": {
        "id": "XvRUJUew0yN_"
      },
      "source": [
        "## Part 2\n",
        "\n",
        "Proximal Policy Optimization (https://arxiv.org/pdf/1707.06347.pdf) is a type of policy gradient method. Instead of calculating Q-values, we train a network $\\pi$ to optimize the probability of taking good actions directly, using states as inputs and actions as outputs. PPO also uses a value network $V$ that estimates state values in order to estimate the advantage $\\hat{A}$.\n",
        "\n",
        "Tuples of state, action distribution, action taken, and return $(s,\\pi(s), a,\\hat{R})$ are gathered for several rollouts. After training on this experience, these tuples are discarded and new experience is gathered.\n",
        "\n",
        "Loss for the value network and the policy network are calculated according to the following formula:\n",
        "\n",
        "$Loss=ValueLoss+PolicyLoss$\n",
        "\n",
        "$ValueLoss=\\frac{1}{N}\\sum \\bigg(\\hat{R} - V(s) \\bigg)^2 $\n",
        "\n",
        "$PolicyLoss=-\\frac{1}{N}\\sum \\min\\bigg( \\frac{\\pi'(a|s)}{\\pi(a|s)} \\hat{A}, clip(\\frac{\\pi'(a|s)}{\\pi(a|s)},1-\\epsilon,1+\\epsilon) \\hat{A} \\bigg) $\n",
        "\n",
        "$\\hat{R}_t = \\sum_{i=t}^H \\gamma^{i-t}r_i$\n",
        "\n",
        "$\\hat{A}_t=\\hat{R}_t-V(s_t)$\n",
        "\n",
        "Here, $\\pi'(a|s)$ is the probability of taking an action given a state under the current policy and $\\pi(a|s)$ is the probability of taking an action given a state under the policy used to gather data. In the loss function, $a$ is the action your agent actually took and is sampled from memory.\n",
        "\n",
        "Additionally, the $clip$ function clips the value of the first argument according to the lower and upper bounds in the second and third arguments resectively.\n",
        "\n",
        "Another important note: Your the calculation of your advantage $\\hat{A}$ should not permit gradient flow from your policy loss calculation. In other words, make sure to call `.detach()` on your advantage.\n",
        "\n",
        "### TODO\n",
        "\n",
        "- Implement calculate return method\n",
        "- Implement get action method\n",
        "- Implement PPO learning algorithm"
      ]
    },
    {
      "cell_type": "code",
      "execution_count": 23,
      "metadata": {
        "id": "zsm1pILHVcEp"
      },
      "outputs": [],
      "source": [
        "def calculate_return(memory, rollout, gamma):\n",
        "  \"\"\"Return memory with calculated return in experience tuple\n",
        "\n",
        "    Args:\n",
        "        memory (list): (state, action, action_dist, return) tuples\n",
        "        rollout (list): (state, action, action_dist, reward) tuples from last rollout\n",
        "        gamma (float): discount factor\n",
        "\n",
        "    Returns:\n",
        "        list: memory updated with (state, action, action_dist, return) tuples from rollout\n",
        "  \"\"\"\n",
        "  returns = []\n",
        "  R = 0\n",
        "  for _, _, _, r in reversed(rollout):\n",
        "    R = r + gamma * R\n",
        "    returns.insert(0, R)\n",
        "\n",
        "  for (state, action, action_dist, _), R in zip(rollout, returns):\n",
        "    memory.append((state, action, action_dist, R))\n",
        "\n",
        "  return memory\n",
        "\n",
        "\n",
        "\n",
        "def get_action_ppo(network, state):\n",
        "  \"\"\"Sample action from the distribution obtained from the policy network\n",
        "\n",
        "    Args:\n",
        "        network (PolicyNetwork): Policy Network\n",
        "        state (np-array): current state, size (state_size)\n",
        "\n",
        "    Returns:\n",
        "        int: action sampled from output distribution of policy network\n",
        "        array: output distribution of policy network\n",
        "  \"\"\"\n",
        "  state_tensor = torch.tensor(state, dtype=torch.float32).unsqueeze(0).cuda()\n",
        "\n",
        "  with torch.no_grad():\n",
        "    action_dist = network(state_tensor)\n",
        "\n",
        "  action = torch.multinomial(action_dist, 1).item()\n",
        "\n",
        "\n",
        "  return action, action_dist.cpu().numpy()[0]\n",
        "\n",
        "\n",
        "def learn_ppo(optim, policy, value, memory_dataloader, epsilon, policy_epochs):\n",
        "  \"\"\"Implement PPO policy and value network updates. Iterate over your entire\n",
        "     memory the number of times indicated by policy_epochs.\n",
        "\n",
        "    Args:\n",
        "        optim (Adam): value and policy optimizer\n",
        "        policy (PolicyNetwork): Policy Network\n",
        "        value (ValueNetwork): Value Network\n",
        "        memory_dataloader (DataLoader): dataloader with (state, action, action_dist, return) tensors\n",
        "        epsilon (float): trust region\n",
        "        policy_epochs (int): number of times to iterate over all memory\n",
        "  \"\"\"\n",
        "  for _ in range(policy_epochs):\n",
        "    for batch in memory_dataloader:\n",
        "      state, action, old_action_dist, returns = batch\n",
        "      state = state.float().cuda()\n",
        "      action = action.long().cuda()\n",
        "      old_action_dist = old_action_dist.float().cuda()\n",
        "      returns = returns.float().cuda()\n",
        "\n",
        "      # forward\n",
        "      new_action_dist = policy(state)\n",
        "      state_value = value(state).squeeze(1)\n",
        "\n",
        "      new_action_prob = new_action_dist.gather(1, action.unsqueeze(1)).squeeze(1)\n",
        "      old_action_prob = old_action_dist.gather(1, action.unsqueeze(1)).squeeze(1)\n",
        "\n",
        "      ratio = new_action_prob / (old_action_prob + 1e-8)\n",
        "\n",
        "      advantage = (returns - state_value).detach()\n",
        "\n",
        "      # policy loss\n",
        "      obj_one = ratio * advantage\n",
        "      obj_two = torch.clamp(ratio, 1 - epsilon, 1 + epsilon) * advantage\n",
        "      policy_loss = -torch.mean(torch.min(obj_one, obj_two))\n",
        "\n",
        "      # value loss\n",
        "      value_loss = F.mse_loss(state_value, returns)\n",
        "\n",
        "      # total loss\n",
        "      loss = policy_loss + value_loss\n",
        "\n",
        "      # backprop\n",
        "      optim.zero_grad()\n",
        "      loss.backward()\n",
        "      optim.step()"
      ]
    },
    {
      "cell_type": "markdown",
      "metadata": {
        "id": "R6RXma_-vSGX"
      },
      "source": [
        "### Modules"
      ]
    },
    {
      "cell_type": "code",
      "execution_count": 17,
      "metadata": {
        "id": "L8URnP8xvTTG"
      },
      "outputs": [],
      "source": [
        "# Dataset that wraps memory for a dataloader\n",
        "class RLDataset(Dataset):\n",
        "  def __init__(self, data):\n",
        "    super().__init__()\n",
        "    self.data = []\n",
        "    for d in data:\n",
        "      self.data.append(d)\n",
        "\n",
        "  def __getitem__(self, index):\n",
        "    return self.data[index]\n",
        "\n",
        "  def __len__(self):\n",
        "    return len(self.data)\n",
        "\n",
        "\n",
        "# Policy Network\n",
        "class PolicyNetwork(nn.Module):\n",
        "  def __init__(self, state_size, action_size):\n",
        "    super().__init__()\n",
        "    hidden_size = 8\n",
        "\n",
        "    self.net = nn.Sequential(nn.Linear(state_size, hidden_size),\n",
        "                             nn.ReLU(),\n",
        "                             nn.Linear(hidden_size, hidden_size),\n",
        "                             nn.ReLU(),\n",
        "                             nn.Linear(hidden_size, hidden_size),\n",
        "                             nn.ReLU(),\n",
        "                             nn.Linear(hidden_size, action_size),\n",
        "                             nn.Softmax(dim=1))\n",
        "\n",
        "  def forward(self, x):\n",
        "    \"\"\"Get policy from state\n",
        "\n",
        "      Args:\n",
        "          state (tensor): current state, size (batch x state_size)\n",
        "\n",
        "      Returns:\n",
        "          action_dist (tensor): probability distribution over actions (batch x action_size)\n",
        "    \"\"\"\n",
        "    return self.net(x)\n",
        "\n",
        "\n",
        "# Value Network\n",
        "class ValueNetwork(nn.Module):\n",
        "  def __init__(self, state_size):\n",
        "    super().__init__()\n",
        "    hidden_size = 8\n",
        "\n",
        "    self.net = nn.Sequential(nn.Linear(state_size, hidden_size),\n",
        "                             nn.ReLU(),\n",
        "                             nn.Linear(hidden_size, hidden_size),\n",
        "                             nn.ReLU(),\n",
        "                             nn.Linear(hidden_size, hidden_size),\n",
        "                             nn.ReLU(),\n",
        "                             nn.Linear(hidden_size, 1))\n",
        "\n",
        "  def forward(self, x):\n",
        "    \"\"\"Estimate value given state\n",
        "\n",
        "      Args:\n",
        "          state (tensor): current state, size (batch x state_size)\n",
        "\n",
        "      Returns:\n",
        "          value (tensor): estimated value, size (batch)\n",
        "    \"\"\"\n",
        "    return self.net(x)"
      ]
    },
    {
      "cell_type": "markdown",
      "metadata": {
        "id": "_aBD_R_e01Qb"
      },
      "source": [
        "### Main"
      ]
    },
    {
      "cell_type": "code",
      "execution_count": 24,
      "metadata": {
        "id": "qX_Bv4M4MyY2",
        "colab": {
          "base_uri": "https://localhost:8080/",
          "height": 421
        },
        "outputId": "250855c5-a96c-464f-afe3-e7fc77fc6ae1"
      },
      "outputs": [
        {
          "output_type": "stream",
          "name": "stderr",
          "text": []
        },
        {
          "output_type": "display_data",
          "data": {
            "text/plain": [
              "<IPython.core.display.HTML object>"
            ],
            "text/html": [
              "<video alt=\"test\" autoplay\n",
              "                loop controls style=\"height: 400px;\">\n",
              "                <source src=\"data:video/mp4;base64,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\" type=\"video/mp4\" />\n",
              "             </video>"
            ]
          },
          "metadata": {}
        }
      ],
      "source": [
        "def ppo_main():\n",
        "  # Hyper parameters\n",
        "  lr = 1e-3\n",
        "  epochs = 20\n",
        "  env_samples = 100\n",
        "  gamma = 0.9\n",
        "  batch_size = 256\n",
        "  epsilon = 0.2\n",
        "  policy_epochs = 5\n",
        "\n",
        "  # Init environment\n",
        "  state_size = 4\n",
        "  action_size = 2\n",
        "  env = gym.make('CartPole-v1', render_mode=\"rgb_array\")\n",
        "\n",
        "  # Init networks\n",
        "  policy_network = PolicyNetwork(state_size, action_size).cuda()\n",
        "  value_network = ValueNetwork(state_size).cuda()\n",
        "\n",
        "  # Init optimizer\n",
        "  optim = torch.optim.Adam(chain(policy_network.parameters(), value_network.parameters()), lr=lr)\n",
        "\n",
        "  # Start main loop\n",
        "  results_ppo = []\n",
        "  loop = tqdm(total=epochs, position=0, leave=False)\n",
        "  for epoch in range(epochs):\n",
        "    last_epoch = (epoch+1 == epochs)\n",
        "    # Record only last epoch\n",
        "    if last_epoch:\n",
        "      env = wrap_env(env)\n",
        "\n",
        "    memory = []  # Reset memory every epoch\n",
        "    rewards = []  # Calculate average episodic reward per epoch\n",
        "\n",
        "    # Begin experience loop\n",
        "    for episode in range(env_samples):\n",
        "\n",
        "      # Reset environment\n",
        "      state, _ = env.reset()\n",
        "      done = False\n",
        "      rollout = []\n",
        "      cum_reward = 0  # Track cumulative reward\n",
        "\n",
        "      # Begin episode\n",
        "      while not done and cum_reward < 200:  # End after 200 steps\n",
        "        # Get action\n",
        "        action, action_dist = get_action_ppo(policy_network, state)\n",
        "\n",
        "        # Take step\n",
        "        next_state, reward, terminated, truncated, _ = env.step(action)\n",
        "        done = terminated or truncated\n",
        "        # env.render()\n",
        "\n",
        "        # Store step\n",
        "        rollout.append((state, action, action_dist, reward))\n",
        "\n",
        "        cum_reward += reward\n",
        "        state = next_state  # Set current state\n",
        "\n",
        "      # Calculate returns and add episode to memory\n",
        "      memory = calculate_return(memory, rollout, gamma)\n",
        "\n",
        "      rewards.append(cum_reward)\n",
        "      env.close()\n",
        "    # Train\n",
        "    dataset = RLDataset(memory)\n",
        "    loader = DataLoader(dataset, batch_size=batch_size, shuffle=True)\n",
        "    learn_ppo(optim, policy_network, value_network, loader, epsilon, policy_epochs)\n",
        "\n",
        "    # Print results\n",
        "    results_ppo.extend(rewards)  # Store rewards for this epoch\n",
        "    loop.update(1)\n",
        "    loop.set_description(\"Epochs: {} Reward: {}\".format(epoch, results_ppo[-1]))\n",
        "\n",
        "  return results_ppo\n",
        "\n",
        "results_ppo = ppo_main()\n",
        "show_video()"
      ]
    },
    {
      "cell_type": "code",
      "execution_count": 22,
      "metadata": {
        "id": "pLXetCMpC1DE",
        "colab": {
          "base_uri": "https://localhost:8080/",
          "height": 430
        },
        "outputId": "1babd82b-3656-4e07-d27f-c0591cf51a0e"
      },
      "outputs": [
        {
          "output_type": "display_data",
          "data": {
            "text/plain": [
              "<Figure size 640x480 with 1 Axes>"
            ],
            "image/png": "[encoded data removed]"
          },
          "metadata": {}
        }
      ],
      "source": [
        "plt.plot(results_ppo)\n",
        "plt.show()"
      ]
    }
  ],
  "metadata": {
    "colab": {
      "provenance": [],
      "gpuType": "T4"
    },
    "kernelspec": {
      "display_name": "Python 3",
      "name": "python3"
    },
    "language_info": {
      "codemirror_mode": {
        "name": "ipython",
        "version": 3
      },
      "file_extension": ".py",
      "mimetype": "text/x-python",
      "name": "python",
      "nbconvert_exporter": "python",
      "pygments_lexer": "ipython3",
      "version": "3.10.14"
    },
    "accelerator": "GPU"
  },
  "nbformat": 4,
  "nbformat_minor": 0
}